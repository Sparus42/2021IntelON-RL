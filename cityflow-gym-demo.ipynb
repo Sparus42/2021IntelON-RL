import gym
import gym_cityflow
import numpy as np
from stable_baselines.deepq.policies import MlpPolicy
from stable_baselines.common.vec_env import DummyVecEnv
from stable_baselines import DQN

env = gym.make('gym_cityflow:CityFlow-1x1-LowTraffic-v0')
model = DQN(MlpPolicy, env, verbose=1)
model.learn(total_timesteps=25000)
